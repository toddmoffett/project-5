{
 "cells": [
  {
   "cell_type": "markdown",
   "metadata": {},
   "source": [
    "# Step 2 - Identify Salient Features Using $\\ell1$-penalty"
   ]
  },
  {
   "cell_type": "markdown",
   "metadata": {},
   "source": [
    "### Domain and Data\n",
    "\n",
    "Prepared for the Neural Information Processing Symposium 2003 Feature Extraction Workshop\n",
    "\n",
    "http://clopinet.com/isabelle/Projects/NIPS2003\n",
    "\n",
    "MADELON is an artificial dataset, which was part of the NIPS 2003 feature selection challenge. This is a two-class classification problem with continuous input variables. The difficulty is that the problem is multivariate and highly non-linear\n",
    "\n",
    "MADELON is an artificial dataset containing data points grouped in 32 clusters placed on the vertices of a five dimensional hypercube and randomly labeled +1 or -1. The five dimensions constitute 5 informative features. 15 linear combinations of those features were added to form a set of 20 (redundant) informative features. Based on those 20 features one must separate the examples into the 2 classes (corresponding to the +-1 labels). We added a number of distractor feature called 'probes' having no predictive power. The order of the features and patterns were randomized.\n",
    "### Problem Statement\n",
    "\n",
    "Our dataset has 499 features to select from. Of those 499 there are 5 relevant features to provide us the highest output.\n",
    "\n",
    "### Solution Statement\n",
    "\n",
    "Using machine learning technology, we will build algorithm models to find the optimal features. \n",
    "\n",
    "### Metric\n",
    "\n",
    "We will continue our process from our benchmarking phase by implementing an L1 penalty to the regression. \n",
    "### Benchmark\n",
    "\n",
    "Our benchmark for our test score will be provided from our previous benchmark scores of. \n",
    "\n",
    "Test Score  : 0.548484848485\n",
    "\n",
    "Train Score : 0.813432835821"
   ]
  },
  {
   "cell_type": "code",
   "execution_count": 1,
   "metadata": {
    "collapsed": false
   },
   "outputs": [],
   "source": [
    "from os import chdir\n",
    "chdir('./lib')"
   ]
  },
  {
   "cell_type": "code",
   "execution_count": 2,
   "metadata": {
    "collapsed": true
   },
   "outputs": [],
   "source": [
    "import pandas as pd\n",
    "from sklearn.metrics import mean_absolute_error, mean_squared_error, r2_score\n",
    "from sklearn.model_selection import train_test_split\n",
    "from sklearn.linear_model import Lasso, Ridge, SGDRegressor, LogisticRegression\n",
    "from sklearn.preprocessing import StandardScaler\n",
    "from sklearn.feature_selection import SelectKBest, f_regression"
   ]
  },
  {
   "cell_type": "code",
   "execution_count": 3,
   "metadata": {
    "collapsed": true
   },
   "outputs": [],
   "source": [
    "from project_5 import connect_to_postgres, load_data_from_database, make_data_dict, general_model, general_transformer"
   ]
  },
  {
   "cell_type": "code",
   "execution_count": 4,
   "metadata": {
    "collapsed": true
   },
   "outputs": [],
   "source": [
    "df = load_data_from_database('postgresql://dsi:correct horse battery staple@joshuacook.me:5432')"
   ]
  },
  {
   "cell_type": "code",
   "execution_count": 5,
   "metadata": {
    "collapsed": true
   },
   "outputs": [],
   "source": [
    "data_dict = make_data_dict(df.drop('label', axis=1), df['label'], 0.25, 51)"
   ]
  },
  {
   "cell_type": "code",
   "execution_count": 6,
   "metadata": {
    "collapsed": false
   },
   "outputs": [],
   "source": [
    "log_model = general_model(LogisticRegression(penalty='l1'), data_dict)"
   ]
  },
  {
   "cell_type": "code",
   "execution_count": 7,
   "metadata": {
    "collapsed": false,
    "scrolled": false
   },
   "outputs": [
    {
     "name": "stdout",
     "output_type": "stream",
     "text": [
      "LogisticRegression(C=1.0, class_weight=None, dual=False, fit_intercept=True,\n",
      "          intercept_scaling=1, max_iter=100, multi_class='ovr', n_jobs=1,\n",
      "          penalty='l1', random_state=None, solver='liblinear', tol=0.0001,\n",
      "          verbose=0, warm_start=False)\n",
      "0.539393939394\n",
      "0.80223880597\n",
      "[[  1.27038088e-02  -1.86033411e-04   1.45926180e-03   3.87821458e-03\n",
      "    6.15446383e-03  -4.12445540e-02   2.97705206e-04   2.49588930e-02\n",
      "    5.89313632e-03  -1.59635673e-02  -2.15532107e-03   6.37248062e-03\n",
      "    6.31298305e-03  -3.53756306e-04  -8.07778055e-03   1.34101984e-02\n",
      "   -1.23125387e-02  -1.62836775e-03   3.25705563e-03  -4.51099398e-03\n",
      "   -4.55726504e-03   9.77415022e-03  -5.09646982e-03  -2.63345403e-03\n",
      "    2.52273609e-03   2.46883014e-03   7.48101349e-03   1.94898295e-02\n",
      "    1.13451039e-02  -5.63940394e-04   0.00000000e+00  -5.18366606e-03\n",
      "   -7.19202127e-04   6.48508203e-03  -1.17869532e-02   1.64233562e-04\n",
      "   -1.74422686e-03   4.87513408e-03  -2.87552051e-02   6.51561003e-03\n",
      "    3.92485025e-03   4.47580185e-03  -7.69019738e-03   8.63389387e-04\n",
      "    6.20843021e-03  -3.70532684e-03   9.04420050e-03  -1.16997875e-03\n",
      "    1.54750532e-02  -5.27306458e-03   1.94091359e-03   7.76608319e-04\n",
      "    2.35529916e-03   5.71164686e-02   3.36270531e-03  -6.15317942e-03\n",
      "    8.87491743e-03  -5.63528281e-03   2.44818193e-03  -4.01317357e-03\n",
      "   -9.15929220e-03   1.56893791e-02   3.10628719e-03  -3.87069554e-02\n",
      "    3.74480385e-03  -5.75182700e-03  -1.50405905e-03   4.66268682e-03\n",
      "    6.87179118e-03   3.47744931e-03  -8.39934147e-04   4.52115317e-03\n",
      "   -8.14885499e-04   4.51316078e-04   1.41418142e-02   2.70263228e-03\n",
      "    1.28072839e-03   1.41996543e-03  -3.06263107e-04  -4.79844300e-03\n",
      "    6.62958174e-03  -2.39434134e-03  -3.75593818e-03  -1.26362825e-04\n",
      "   -5.65476646e-03  -2.23821254e-03  -2.17367195e-02  -1.44204401e-03\n",
      "   -9.91621179e-03  -3.23745073e-03  -2.92617064e-04  -4.05896167e-04\n",
      "    7.95698098e-04  -3.13650904e-03  -9.57890723e-03   1.24014127e-03\n",
      "    7.35703252e-03   1.22496342e-03   8.11816530e-03   2.73551578e-03\n",
      "    1.04269670e-02   1.38247645e-02  -1.56730800e-02  -7.60915087e-04\n",
      "    1.48319520e-03  -1.42801361e-03   2.40739366e-03   1.92268133e-03\n",
      "   -6.37598602e-03  -1.50966465e-02   2.13933357e-03  -7.18842051e-04\n",
      "    5.83366529e-03   2.11276389e-03   2.38418798e-03  -1.02231315e-02\n",
      "    8.66022275e-03   1.79003879e-02   5.57355140e-04   9.63773183e-04\n",
      "   -2.74924553e-02   3.95599444e-03  -9.37568889e-03  -2.00783091e-03\n",
      "   -8.12989401e-03   7.86119408e-04  -7.79387006e-03  -6.83163106e-03\n",
      "   -5.92098554e-03  -4.09783223e-04  -9.98193209e-03  -9.96387428e-04\n",
      "   -5.35595120e-03  -9.24309688e-03   1.48668228e-03   2.61988140e-03\n",
      "    4.66666340e-03   4.32440378e-03  -1.55319575e-02  -8.93378689e-03\n",
      "    7.36380690e-03   2.16347015e-03   5.41387260e-03   1.19114962e-02\n",
      "    5.34204698e-03   1.27133759e-03  -2.07698303e-02  -2.02697859e-04\n",
      "    9.53602150e-03   2.73441107e-03   1.06479422e-03   2.14435964e-02\n",
      "   -1.26207792e-02  -1.65818697e-02   6.10404090e-03  -1.07765059e-03\n",
      "   -6.87975316e-03  -5.31820754e-03   2.21929962e-03   1.41578528e-03\n",
      "    2.65277232e-03  -2.45869416e-02  -6.49774438e-03   3.31557577e-02\n",
      "    1.97789415e-03   1.10227398e-02   4.14168147e-03  -2.33152204e-02\n",
      "   -2.29807399e-02   1.59928955e-03   1.71563471e-03   2.24635835e-03\n",
      "    2.47543577e-03   0.00000000e+00   1.45161764e-03  -1.39653104e-03\n",
      "   -6.67046122e-04   7.12739916e-03  -1.15116529e-03  -4.55901499e-03\n",
      "   -3.19000376e-03   1.71815343e-03   1.16180505e-03   8.14059550e-04\n",
      "    7.74234590e-03   8.11319780e-04   5.81303438e-03   5.02540226e-04\n",
      "    8.98896321e-04   2.88609510e-02  -2.17282800e-03   2.63035540e-03\n",
      "   -5.26745320e-03  -2.46675474e-03   8.07246894e-04  -9.06042775e-04\n",
      "    3.05924336e-02   2.22749052e-02  -1.32102573e-02  -6.64703685e-03\n",
      "   -5.92009224e-03   4.16897743e-05  -7.15751603e-04   2.71677242e-03\n",
      "    5.28528719e-03  -1.00848767e-02  -1.11329748e-03   2.95215652e-02\n",
      "   -1.81311227e-03   3.40865953e-03  -1.81870698e-04   4.68313489e-03\n",
      "   -6.52452687e-04   2.63030578e-03   1.22948006e-02  -1.88424740e-03\n",
      "    4.87497953e-05   8.10905002e-04  -4.96377312e-03  -5.74621168e-03\n",
      "   -6.03068548e-03   6.96846632e-05   8.74715290e-04  -1.21504780e-03\n",
      "    1.54822307e-03   5.07152586e-03  -1.17013758e-02  -4.73203790e-03\n",
      "    0.00000000e+00   1.18943961e-03   2.85338653e-03   1.57518096e-03\n",
      "    9.26814854e-03   7.79305211e-04   9.69117713e-03  -5.56920752e-03\n",
      "   -1.21681525e-02  -4.79367485e-03  -2.66473923e-03  -2.65202152e-02\n",
      "    2.08857897e-03   7.09082584e-03   2.84434060e-03  -8.44758731e-03\n",
      "    4.11575094e-03   4.37004116e-03   3.18235008e-03  -2.12778809e-03\n",
      "    1.23145444e-02   1.91488134e-03   1.98232706e-04   8.61567181e-03\n",
      "   -2.55099335e-03  -2.36181886e-03   2.15198235e-04   1.39653942e-03\n",
      "   -1.34237611e-03  -3.92845192e-04  -5.81554548e-03   1.62550968e-03\n",
      "   -1.73762664e-03  -4.23915501e-02  -6.60373638e-03  -1.61430440e-03\n",
      "   -8.77479932e-03  -2.75668297e-03   3.36596836e-03  -1.10182170e-02\n",
      "    8.20436560e-03  -3.50402631e-03  -1.28168308e-03   8.66577601e-04\n",
      "    2.01094697e-03  -1.58095806e-03  -2.92955750e-04   7.13345669e-03\n",
      "    0.00000000e+00  -4.17875530e-03  -1.22524466e-02   3.87689294e-03\n",
      "    7.15805608e-03  -2.13519941e-02   1.65072626e-02   1.54556777e-02\n",
      "    2.02164305e-03  -8.84713517e-03  -9.16635110e-03  -1.85864387e-03\n",
      "   -1.10160863e-02   4.35946498e-03  -1.50662790e-03  -4.14381454e-03\n",
      "    2.63426886e-03   1.68863595e-02   5.70958747e-03  -5.50560493e-03\n",
      "   -9.64414343e-03   1.03583762e-03  -6.45927409e-03  -1.83316536e-04\n",
      "   -3.46942099e-04   4.06105517e-03   2.11012850e-03  -5.73651108e-03\n",
      "   -1.56571635e-03  -6.39322333e-03  -6.52584730e-03   2.13904739e-02\n",
      "   -1.79832986e-03   4.49905679e-03  -1.07220245e-02   1.93137583e-03\n",
      "    4.62729270e-03  -5.45856102e-04   1.24249208e-02  -1.73666694e-03\n",
      "   -4.65202556e-03   3.51018125e-02  -1.07613395e-02  -2.46279827e-03\n",
      "    1.71760609e-02   3.80237263e-03  -6.54997804e-03  -9.28960141e-03\n",
      "    1.93294720e-03   1.11303642e-02   4.47888043e-03   2.80249718e-04\n",
      "    3.60558796e-03   2.70478318e-03   4.62588845e-03   2.30948873e-03\n",
      "   -8.80297510e-03   5.48020827e-03  -4.99489034e-03  -1.29966376e-02\n",
      "   -2.00814584e-03  -5.83194266e-04  -1.58498120e-03   3.93907495e-03\n",
      "    7.22147317e-03   4.37989400e-04  -1.43775278e-03  -3.27904105e-03\n",
      "    4.09493692e-03  -2.61577735e-02   5.78680026e-03   4.26799728e-04\n",
      "    1.18303919e-02   4.62424702e-03   1.33196895e-02  -2.07634359e-04\n",
      "    3.99167869e-03  -4.79012230e-04  -1.17024195e-03  -2.57848005e-03\n",
      "    1.20895444e-03  -4.97679505e-02  -1.30768860e-03  -2.46857340e-04\n",
      "    1.83795869e-03   1.06146539e-02  -2.49787575e-04   2.70559556e-03\n",
      "    2.58566208e-02   1.67358738e-03  -1.28881559e-03  -2.14862955e-03\n",
      "   -6.25370296e-03  -8.78943595e-04   4.46176935e-03  -1.77966435e-03\n",
      "    2.82025936e-03   7.53027891e-04  -4.35966592e-03  -1.97546107e-03\n",
      "    9.32055391e-03  -9.95522399e-03  -7.47086388e-03   9.03908326e-04\n",
      "   -1.37648166e-03  -5.35198592e-03   5.90348396e-03   9.33995630e-03\n",
      "    5.28854530e-03   9.70866039e-03   1.02362455e-03   4.18747654e-03\n",
      "   -1.60040467e-03   6.59085244e-04  -2.53092786e-02   1.45285404e-03\n",
      "   -1.33107968e-02  -2.71925356e-03  -3.50099652e-02  -8.52407656e-03\n",
      "   -4.62984774e-03   1.02366448e-03   3.65275878e-03   1.35319212e-02\n",
      "    6.76315360e-03   1.51493314e-03   1.44500916e-02   4.88099452e-03\n",
      "   -5.08069900e-03  -1.15846647e-03   1.01649120e-03  -3.30511182e-02\n",
      "   -1.70873270e-03   2.25498779e-03  -4.46781462e-03  -1.55339507e-03\n",
      "    9.94790207e-03  -1.60210964e-02  -2.53278331e-03   4.57291803e-04\n",
      "    4.38652818e-03  -5.51763139e-03   5.22320418e-04  -4.62288969e-04\n",
      "   -3.06158771e-02  -5.65568102e-03  -3.82676538e-03  -1.54258837e-02\n",
      "    2.72371336e-02  -2.02502874e-02   5.44541434e-03  -1.30107810e-03\n",
      "   -2.38364517e-03  -1.61705880e-02  -5.17650787e-03   2.06674774e-03\n",
      "   -3.90905620e-04   2.49436186e-02   2.21097448e-03   1.48342667e-03\n",
      "    3.17597099e-03  -1.41478707e-03  -5.69007845e-04   1.46064216e-03\n",
      "   -4.20464195e-04  -9.88906772e-03  -2.33719053e-02   1.79207518e-03\n",
      "   -6.29007903e-03   3.87625167e-02   5.41638338e-03  -1.48340054e-02\n",
      "   -3.58056645e-03  -1.27846621e-02   3.11357619e-03   8.28242487e-03\n",
      "    4.91152400e-03   5.75171393e-03   2.73135242e-02   3.87013970e-03\n",
      "    3.41252442e-03   2.49356850e-03  -2.62560823e-03   2.91430459e-03\n",
      "   -1.54609870e-04   3.19079671e-03  -3.49227150e-03  -2.18858116e-04\n",
      "   -1.22327911e-03   1.87852234e-03   4.75326474e-03  -4.43866378e-03\n",
      "    4.52956132e-03  -6.84661482e-03  -4.11593218e-04   4.52128623e-02\n",
      "    3.58845955e-02   1.04784783e-02   3.45036586e-02   9.31283839e-03\n",
      "    2.36656499e-04  -2.07196956e-04   2.92221316e-03  -7.42924398e-03\n",
      "   -5.82079085e-03  -6.12757615e-03  -7.82238022e-03  -4.11714071e-03\n",
      "   -1.89914544e-03  -4.60345942e-03  -1.10751090e-02   3.71347827e-03\n",
      "    2.65271804e-03  -1.48356065e-02   6.47057154e-03  -7.02378696e-03\n",
      "   -5.89086560e-03   4.69359596e-03   9.04395380e-03  -3.41201153e-03\n",
      "   -6.03850097e-02   1.40055087e-02  -9.18838400e-05   1.19756857e-02]]\n"
     ]
    }
   ],
   "source": [
    "print log_model['model']\n",
    "print log_model['test_score']\n",
    "print log_model['train_score']\n",
    "print log_model['coef']"
   ]
  },
  {
   "cell_type": "markdown",
   "metadata": {},
   "source": [
    "<img src=\"assets/identify_features.png\" width=\"600px\">"
   ]
  }
 ],
 "metadata": {
  "anaconda-cloud": {},
  "kernelspec": {
   "display_name": "Python [conda env:py27]",
   "language": "python",
   "name": "conda-env-py27-py"
  },
  "language_info": {
   "codemirror_mode": {
    "name": "ipython",
    "version": 2
   },
   "file_extension": ".py",
   "mimetype": "text/x-python",
   "name": "python",
   "nbconvert_exporter": "python",
   "pygments_lexer": "ipython2",
   "version": "2.7.12"
  }
 },
 "nbformat": 4,
 "nbformat_minor": 1
}
