{
 "cells": [
  {
   "cell_type": "code",
   "execution_count": 1,
   "metadata": {
    "collapsed": false
   },
   "outputs": [],
   "source": [
    "from os import chdir\n",
    "chdir('./lib')"
   ]
  },
  {
   "cell_type": "code",
   "execution_count": null,
   "metadata": {
    "collapsed": false
   },
   "outputs": [],
   "source": [
    "pwd"
   ]
  },
  {
   "cell_type": "code",
   "execution_count": 2,
   "metadata": {
    "collapsed": true
   },
   "outputs": [],
   "source": [
    "import pandas as pd\n",
    "#from sqlalchemy import create_engine\n",
    "from sklearn.metrics import mean_absolute_error, mean_squared_error, r2_score\n",
    "from sklearn.model_selection import train_test_split\n",
    "from sklearn.linear_model import Lasso, Ridge, SGDRegressor, LogisticRegression\n",
    "from sklearn.preprocessing import StandardScaler\n",
    "from sklearn.feature_selection import SelectKBest, f_regression, f_classif"
   ]
  },
  {
   "cell_type": "code",
   "execution_count": 3,
   "metadata": {
    "collapsed": false,
    "scrolled": true
   },
   "outputs": [],
   "source": [
    "from project_5 import connect_to_postgres, load_data_from_database, make_data_dict, general_model, general_transformer"
   ]
  },
  {
   "cell_type": "code",
   "execution_count": 4,
   "metadata": {
    "collapsed": false
   },
   "outputs": [],
   "source": [
    "df = load_data_from_database('postgresql://dsi:correct horse battery staple@joshuacook.me:5432')"
   ]
  },
  {
   "cell_type": "code",
   "execution_count": 5,
   "metadata": {
    "collapsed": false
   },
   "outputs": [
    {
     "data": {
      "text/html": [
       "<div>\n",
       "<table border=\"1\" class=\"dataframe\">\n",
       "  <thead>\n",
       "    <tr style=\"text-align: right;\">\n",
       "      <th></th>\n",
       "      <th>feat_000</th>\n",
       "      <th>feat_001</th>\n",
       "      <th>feat_002</th>\n",
       "      <th>feat_003</th>\n",
       "      <th>feat_004</th>\n",
       "      <th>feat_005</th>\n",
       "      <th>feat_006</th>\n",
       "      <th>feat_007</th>\n",
       "      <th>feat_008</th>\n",
       "      <th>feat_009</th>\n",
       "      <th>...</th>\n",
       "      <th>feat_491</th>\n",
       "      <th>feat_492</th>\n",
       "      <th>feat_493</th>\n",
       "      <th>feat_494</th>\n",
       "      <th>feat_495</th>\n",
       "      <th>feat_496</th>\n",
       "      <th>feat_497</th>\n",
       "      <th>feat_498</th>\n",
       "      <th>feat_499</th>\n",
       "      <th>label</th>\n",
       "    </tr>\n",
       "    <tr>\n",
       "      <th>index</th>\n",
       "      <th></th>\n",
       "      <th></th>\n",
       "      <th></th>\n",
       "      <th></th>\n",
       "      <th></th>\n",
       "      <th></th>\n",
       "      <th></th>\n",
       "      <th></th>\n",
       "      <th></th>\n",
       "      <th></th>\n",
       "      <th></th>\n",
       "      <th></th>\n",
       "      <th></th>\n",
       "      <th></th>\n",
       "      <th></th>\n",
       "      <th></th>\n",
       "      <th></th>\n",
       "      <th></th>\n",
       "      <th></th>\n",
       "      <th></th>\n",
       "      <th></th>\n",
       "    </tr>\n",
       "  </thead>\n",
       "  <tbody>\n",
       "    <tr>\n",
       "      <th>0</th>\n",
       "      <td>485</td>\n",
       "      <td>477</td>\n",
       "      <td>537</td>\n",
       "      <td>479</td>\n",
       "      <td>452</td>\n",
       "      <td>471</td>\n",
       "      <td>491</td>\n",
       "      <td>476</td>\n",
       "      <td>475</td>\n",
       "      <td>473</td>\n",
       "      <td>...</td>\n",
       "      <td>481</td>\n",
       "      <td>477</td>\n",
       "      <td>485</td>\n",
       "      <td>511</td>\n",
       "      <td>485</td>\n",
       "      <td>481</td>\n",
       "      <td>479</td>\n",
       "      <td>475</td>\n",
       "      <td>496</td>\n",
       "      <td>-1</td>\n",
       "    </tr>\n",
       "    <tr>\n",
       "      <th>1</th>\n",
       "      <td>483</td>\n",
       "      <td>458</td>\n",
       "      <td>460</td>\n",
       "      <td>487</td>\n",
       "      <td>587</td>\n",
       "      <td>475</td>\n",
       "      <td>526</td>\n",
       "      <td>479</td>\n",
       "      <td>485</td>\n",
       "      <td>469</td>\n",
       "      <td>...</td>\n",
       "      <td>478</td>\n",
       "      <td>487</td>\n",
       "      <td>338</td>\n",
       "      <td>513</td>\n",
       "      <td>486</td>\n",
       "      <td>483</td>\n",
       "      <td>492</td>\n",
       "      <td>510</td>\n",
       "      <td>517</td>\n",
       "      <td>-1</td>\n",
       "    </tr>\n",
       "  </tbody>\n",
       "</table>\n",
       "<p>2 rows × 501 columns</p>\n",
       "</div>"
      ],
      "text/plain": [
       "       feat_000  feat_001  feat_002  feat_003  feat_004  feat_005  feat_006  \\\n",
       "index                                                                         \n",
       "0           485       477       537       479       452       471       491   \n",
       "1           483       458       460       487       587       475       526   \n",
       "\n",
       "       feat_007  feat_008  feat_009  ...    feat_491  feat_492  feat_493  \\\n",
       "index                                ...                                   \n",
       "0           476       475       473  ...         481       477       485   \n",
       "1           479       485       469  ...         478       487       338   \n",
       "\n",
       "       feat_494  feat_495  feat_496  feat_497  feat_498  feat_499  label  \n",
       "index                                                                     \n",
       "0           511       485       481       479       475       496     -1  \n",
       "1           513       486       483       492       510       517     -1  \n",
       "\n",
       "[2 rows x 501 columns]"
      ]
     },
     "execution_count": 5,
     "metadata": {},
     "output_type": "execute_result"
    }
   ],
   "source": [
    "df.head(2)"
   ]
  },
  {
   "cell_type": "code",
   "execution_count": 6,
   "metadata": {
    "collapsed": false
   },
   "outputs": [],
   "source": [
    "data_dict = make_data_dict(df.drop('label', axis=1), df['label'], 0.25, 51)"
   ]
  },
  {
   "cell_type": "code",
   "execution_count": null,
   "metadata": {
    "collapsed": false,
    "scrolled": true
   },
   "outputs": [],
   "source": [
    "#data_dict['X_train']"
   ]
  },
  {
   "cell_type": "code",
   "execution_count": 7,
   "metadata": {
    "collapsed": false
   },
   "outputs": [
    {
     "data": {
      "text/plain": [
       "['X_test',\n",
       " 'random_state',\n",
       " 'X_train',\n",
       " 'y_train',\n",
       " 'test_size',\n",
       " 'y',\n",
       " 'X',\n",
       " 'y_test']"
      ]
     },
     "execution_count": 7,
     "metadata": {},
     "output_type": "execute_result"
    }
   ],
   "source": [
    "data_dict.keys()"
   ]
  },
  {
   "cell_type": "code",
   "execution_count": 8,
   "metadata": {
    "collapsed": false
   },
   "outputs": [],
   "source": [
    "X = data_dict['X']\n",
    "y = data_dict['y']"
   ]
  },
  {
   "cell_type": "code",
   "execution_count": null,
   "metadata": {
    "collapsed": true
   },
   "outputs": [],
   "source": [
    "scaler = "
   ]
  },
  {
   "cell_type": "code",
   "execution_count": 7,
   "metadata": {
    "collapsed": false
   },
   "outputs": [
    {
     "data": {
      "text/plain": [
       "{'X_test': array([[ 1.11528222, -0.53589971,  0.31929211, ..., -0.51684957,\n",
       "         -0.07424994,  0.45761632],\n",
       "        [-0.30367585, -0.70409008,  1.07610477, ..., -0.00464154,\n",
       "         -0.07424994,  0.45761632],\n",
       "        [ 0.16931017, -1.37685157, -0.66456435, ...,  1.6783277 ,\n",
       "          0.78974939, -0.23280125],\n",
       "        ..., \n",
       "        [-0.77666188,  0.57415675,  0.19315666, ...,  2.2637083 ,\n",
       "          1.32974898,  1.91516452],\n",
       "        [-0.14601385,  0.13686178, -0.41229347, ...,  0.87342936,\n",
       "          1.05974919, -0.4245839 ],\n",
       "        [ 0.16931017,  0.13686178, -0.16002258, ..., -1.24857533,\n",
       "         -0.1282499 , -2.99447151]]),\n",
       " 'X_train': array([[ 0.32697218,  0.57415675,  2.48882174, ...,  1.09294709,\n",
       "         -0.74924943,  1.33981654],\n",
       "        [-1.72263393, -0.70409008, -0.1095684 , ...,  1.53198254,\n",
       "         -1.28924901,  2.03023411],\n",
       "        [-0.14601385,  0.03594755,  1.02565059, ...,  0.21487618,\n",
       "          0.27674979, -1.80541904],\n",
       "        ..., \n",
       "        [-0.14601385,  0.27141408, -0.81592689, ...,  0.87342936,\n",
       "          0.70874946, -1.03828841],\n",
       "        [ 0.32697218,  1.11236594,  1.30314857, ...,  1.971018  ,\n",
       "         -0.80324938,  0.76446857],\n",
       "        [ 0.95762021, -1.3432135 , -2.17818968, ...,  0.14170361,\n",
       "         -0.2632498 ,  1.22474695]]),\n",
       " 'processes': [StandardScaler(copy=True, with_mean=True, with_std=True)],\n",
       " 'random_state': 51,\n",
       " 'test_size': 0.25,\n",
       " 'x_data':        feat_000  feat_001  feat_002  feat_003  feat_004  feat_005  feat_006  \\\n",
       " index                                                                         \n",
       " 0           485       477       537       479       452       471       491   \n",
       " 1           483       458       460       487       587       475       526   \n",
       " 2           487       542       499       468       448       471       442   \n",
       " 3           480       491       510       485       495       472       417   \n",
       " 4           484       502       528       489       466       481       402   \n",
       " 5           481       496       451       480       516       484       484   \n",
       " 6           484       533       498       466       577       482       471   \n",
       " 7           474       468       598       490       530       482       448   \n",
       " 8           484       498       558       489       508       478       471   \n",
       " 9           496       448       570       476       477       481       595   \n",
       " 10          478       446       457       475       468       475       482   \n",
       " 11          486       479       528       483       530       484       479   \n",
       " 12          466       486       540       492       500       475       491   \n",
       " 13          477       510       536       497       481       488       556   \n",
       " 14          490       454       491       476       517       489       459   \n",
       " 15          485       472       536       485       497       466       530   \n",
       " 16          483       506       450       490       519       484       455   \n",
       " 17          485       481       428       478       531       469       468   \n",
       " 18          475       454       539       467       510       480       498   \n",
       " 19          472       485       461       483       533       484       569   \n",
       " 20          491       487       520       463       501       486       487   \n",
       " 21          470       464       494       512       559       484       398   \n",
       " 22          481       480       473       483       504       477       493   \n",
       " 23          482       487       543       479       498       475       436   \n",
       " 24          488       425       465       483       571       482       436   \n",
       " 25          489       510       492       468       510       486       481   \n",
       " 26          469       448       478       485       492       464       513   \n",
       " 27          480       461       496       476       448       472       429   \n",
       " 28          475       485       541       478       542       486       509   \n",
       " 29          484       478       566       483       483       484       502   \n",
       " ...         ...       ...       ...       ...       ...       ...       ...   \n",
       " 1970        486       472       544       490       486       482       431   \n",
       " 1971        489       503       532       492       581       499       458   \n",
       " 1972        484       473       534       463       564       472       467   \n",
       " 1973        470       499       496       472       578       465       470   \n",
       " 1974        488       492       492       482       522       478       480   \n",
       " 1975        489       527       484       461       486       485       467   \n",
       " 1976        480       534       473       492       490       487       518   \n",
       " 1977        486       521       480       480       461       483       445   \n",
       " 1978        481       515       484       502       519       484       404   \n",
       " 1979        471       463       430       490       473       486       520   \n",
       " 1980        478       451       595       492       555       475       461   \n",
       " 1981        486       472       544       486       465       482       445   \n",
       " 1982        475       507       550       476       493       483       444   \n",
       " 1983        478       513       584       488       509       479       504   \n",
       " 1984        486       524       475       481       530       482       522   \n",
       " 1985        483       483       523       489       422       485       466   \n",
       " 1986        480       491       519       490       513       469       460   \n",
       " 1987        471       502       526       487       504       482       502   \n",
       " 1988        482       447       463       485       526       489       429   \n",
       " 1989        486       473       525       486       443       477       458   \n",
       " 1990        475       403       544       488       452       481       541   \n",
       " 1991        482       541       590       487       461       483       389   \n",
       " 1992        495       456       538       496       467       495       443   \n",
       " 1993        477       501       518       496       479       472       424   \n",
       " 1994        483       466       588       491       381       476       495   \n",
       " 1995        490       505       503       474       463       461       519   \n",
       " 1996        480       475       476       480       495       482       515   \n",
       " 1997        480       517       631       470       485       474       535   \n",
       " 1998        484       481       505       478       542       477       518   \n",
       " 1999        474       493       469       486       521       475       494   \n",
       " \n",
       "        feat_007  feat_008  feat_009    ...     feat_490  feat_491  feat_492  \\\n",
       " index                                  ...                                    \n",
       " 0           476       475       473    ...          477       481       477   \n",
       " 1           479       485       469    ...          463       478       487   \n",
       " 2           478       480       477    ...          487       481       492   \n",
       " 3           474       502       476    ...          491       480       474   \n",
       " 4           478       487       468    ...          488       479       452   \n",
       " 5           476       500       482    ...          478       481       477   \n",
       " 6           477       476       468    ...          472       483       490   \n",
       " 7           476       497       489    ...          469       479       511   \n",
       " 8           478       488       470    ...          473       478       478   \n",
       " 9           477       465       490    ...          485       476       447   \n",
       " 10          479       478       473    ...          515       479       506   \n",
       " 11          477       462       487    ...          492       476       498   \n",
       " 12          474       505       475    ...          464       481       459   \n",
       " 13          478       486       475    ...          480       481       490   \n",
       " 14          477       508       482    ...          480       484       485   \n",
       " 15          478       475       475    ...          470       481       501   \n",
       " 16          476       473       468    ...          509       470       502   \n",
       " 17          477       473       471    ...          477       479       503   \n",
       " 18          477       505       473    ...          479       479       470   \n",
       " 19          480       496       471    ...          505       479       449   \n",
       " 20          476       486       471    ...          504       480       499   \n",
       " 21          478       486       485    ...          508       483       484   \n",
       " 22          477       494       482    ...          468       480       496   \n",
       " 23          476       476       479    ...          496       474       466   \n",
       " 24          478       478       486    ...          473       480       506   \n",
       " 25          477       482       477    ...          504       478       494   \n",
       " 26          477       515       477    ...          491       478       541   \n",
       " 27          477       492       486    ...          448       473       487   \n",
       " 28          478       492       480    ...          536       478       513   \n",
       " 29          476       486       475    ...          517       482       465   \n",
       " ...         ...       ...       ...    ...          ...       ...       ...   \n",
       " 1970        475       509       474    ...          506       477       476   \n",
       " 1971        478       493       485    ...          444       479       494   \n",
       " 1972        475       479       478    ...          531       487       514   \n",
       " 1973        477       483       482    ...          481       479       473   \n",
       " 1974        476       468       471    ...          492       477       488   \n",
       " 1975        477       503       484    ...          490       479       480   \n",
       " 1976        475       487       476    ...          490       484       465   \n",
       " 1977        479       464       474    ...          518       480       488   \n",
       " 1978        478       479       484    ...          469       472       526   \n",
       " 1979        476       467       474    ...          535       473       534   \n",
       " 1980        475       499       487    ...          510       483       464   \n",
       " 1981        475       490       480    ...          473       483       479   \n",
       " 1982        477       489       481    ...          497       480       511   \n",
       " 1983        472       480       482    ...          489       483       482   \n",
       " 1984        477       478       478    ...          494       475       468   \n",
       " 1985        476       489       487    ...          485       475       445   \n",
       " 1986        475       467       475    ...          515       477       509   \n",
       " 1987        477       493       487    ...          486       497       506   \n",
       " 1988        477       498       485    ...          497       472       494   \n",
       " 1989        475       486       481    ...          505       482       536   \n",
       " 1990        476       482       475    ...          481       473       488   \n",
       " 1991        477       499       490    ...          466       481       504   \n",
       " 1992        475       461       494    ...          488       479       487   \n",
       " 1993        476       501       486    ...          450       476       435   \n",
       " 1994        476       470       479    ...          518       474       453   \n",
       " 1995        476       518       467    ...          467       479       449   \n",
       " 1996        479       480       484    ...          464       474       473   \n",
       " 1997        476       493       466    ...          501       483       479   \n",
       " 1998        477       510       472    ...          487       483       526   \n",
       " 1999        479       481       473    ...          467       476       508   \n",
       " \n",
       "        feat_493  feat_494  feat_495  feat_496  feat_497  feat_498  feat_499  \n",
       " index                                                                        \n",
       " 0           485       511       485       481       479       475       496  \n",
       " 1           338       513       486       483       492       510       517  \n",
       " 2           650       506       501       480       489       499       498  \n",
       " 3           572       454       469       475       482       494       461  \n",
       " 4           435       486       508       481       504       495       511  \n",
       " 5           435       491       564       482       463       457       500  \n",
       " 6           648       484       475       479       475       462       484  \n",
       " 7           351       462       533       480       501       529       489  \n",
       " 8           633       453       556       458       473       531       440  \n",
       " 9           576       511       508       478       486       582       496  \n",
       " 10          491       512       476       471       501       550       517  \n",
       " 11          599       459       452       475       496       505       485  \n",
       " 12          696       470       503       473       493       506       522  \n",
       " 13          649       486       520       485       480       500       485  \n",
       " 14          633       562       482       474       500       535       474  \n",
       " 15          732       509       548       479       500       529       539  \n",
       " 16          207       547       479       476       461       520       504  \n",
       " 17          549       506       574       483       496       521       495  \n",
       " 18          627       509       451       476       479       540       506  \n",
       " 19          363       495       536       484       494       503       447  \n",
       " 20          285       486       480       479       493       578       484  \n",
       " 21          708       545       462       474       503       454       501  \n",
       " 22          453       451       462       484       492       520       511  \n",
       " 23          366       443       489       480       515       520       500  \n",
       " 24          596       463       486       478       510       472       508  \n",
       " 25          604       553       518       473       454       455       528  \n",
       " 26          649       435       513       481       463       506       569  \n",
       " 27          314       464       499       480       463       480       464  \n",
       " 28          561       504       509       482       485       481       487  \n",
       " 29          557       527       525       478       485       467       473  \n",
       " ...         ...       ...       ...       ...       ...       ...       ...  \n",
       " 1970        554       508       535       476       476       515       481  \n",
       " 1971        595       477       552       477       474       555       538  \n",
       " 1972        524       539       525       475       493       507       527  \n",
       " 1973        564       480       474       479       493       550       476  \n",
       " 1974        516       554       521       478       459       428       449  \n",
       " 1975        498       510       498       481       474       512       477  \n",
       " 1976        496       529       510       486       497       457       478  \n",
       " 1977        695       407       483       478       460       533       493  \n",
       " 1978        713       517       410       487       490       467       475  \n",
       " 1979        789       447       517       474       474       545       506  \n",
       " 1980        410       548       472       479       479       524       527  \n",
       " 1981        187       587       512       478       497       502       527  \n",
       " 1982        479       480       534       485       481       505       583  \n",
       " 1983        458       485       474       487       488       465       495  \n",
       " 1984        433       456       548       484       463       523       503  \n",
       " 1985        600       488       515       479       470       500       451  \n",
       " 1986        583       542       523       472       472       562       457  \n",
       " 1987        573       440       522       490       469       520       506  \n",
       " 1988        487       529       520       475       485       552       459  \n",
       " 1989        639       522       558       474       477       579       504  \n",
       " 1990        438       450       500       461       485       525       510  \n",
       " 1991        304       455       539       480       506       552       478  \n",
       " 1992        488       451       515       485       463       504       507  \n",
       " 1993        736       539       546       482       514       557       540  \n",
       " 1994        715       447       485       468       491       569       452  \n",
       " 1995        588       499       506       475       463       507       501  \n",
       " 1996        424       454       570       476       493       465       485  \n",
       " 1997        687       488       488       483       500       523       481  \n",
       " 1998        750       486       529       484       473       527       485  \n",
       " 1999        449       463       533       481       489       516       516  \n",
       " \n",
       " [2000 rows x 500 columns],\n",
       " 'y_data': index\n",
       " 0      -1\n",
       " 1      -1\n",
       " 2      -1\n",
       " 3       1\n",
       " 4       1\n",
       " 5       1\n",
       " 6       1\n",
       " 7      -1\n",
       " 8       1\n",
       " 9      -1\n",
       " 10     -1\n",
       " 11     -1\n",
       " 12      1\n",
       " 13     -1\n",
       " 14     -1\n",
       " 15     -1\n",
       " 16     -1\n",
       " 17      1\n",
       " 18     -1\n",
       " 19      1\n",
       " 20     -1\n",
       " 21      1\n",
       " 22     -1\n",
       " 23      1\n",
       " 24     -1\n",
       " 25     -1\n",
       " 26      1\n",
       " 27     -1\n",
       " 28      1\n",
       " 29     -1\n",
       "        ..\n",
       " 1970    1\n",
       " 1971   -1\n",
       " 1972    1\n",
       " 1973    1\n",
       " 1974   -1\n",
       " 1975    1\n",
       " 1976    1\n",
       " 1977    1\n",
       " 1978   -1\n",
       " 1979   -1\n",
       " 1980    1\n",
       " 1981    1\n",
       " 1982   -1\n",
       " 1983   -1\n",
       " 1984    1\n",
       " 1985    1\n",
       " 1986   -1\n",
       " 1987    1\n",
       " 1988   -1\n",
       " 1989    1\n",
       " 1990   -1\n",
       " 1991   -1\n",
       " 1992   -1\n",
       " 1993   -1\n",
       " 1994    1\n",
       " 1995    1\n",
       " 1996   -1\n",
       " 1997   -1\n",
       " 1998    1\n",
       " 1999    1\n",
       " Name: label, dtype: int64,\n",
       " 'y_test': index\n",
       " 1860    1\n",
       " 353    -1\n",
       " 1333   -1\n",
       " 905    -1\n",
       " 1289   -1\n",
       " 1273    1\n",
       " 938     1\n",
       " 1731    1\n",
       " 65     -1\n",
       " 1323   -1\n",
       " 56      1\n",
       " 1292   -1\n",
       " 1118    1\n",
       " 584    -1\n",
       " 374     1\n",
       " 275     1\n",
       " 746     1\n",
       " 128    -1\n",
       " 1646    1\n",
       " 1852    1\n",
       " 674    -1\n",
       " 1664   -1\n",
       " 1981    1\n",
       " 1083    1\n",
       " 1922    1\n",
       " 99     -1\n",
       " 1179    1\n",
       " 964    -1\n",
       " 792     1\n",
       " 29     -1\n",
       "        ..\n",
       " 277     1\n",
       " 1846    1\n",
       " 358    -1\n",
       " 1110    1\n",
       " 236     1\n",
       " 551     1\n",
       " 1867   -1\n",
       " 1812   -1\n",
       " 208    -1\n",
       " 1386   -1\n",
       " 1560   -1\n",
       " 58      1\n",
       " 631     1\n",
       " 1961    1\n",
       " 1859   -1\n",
       " 1816   -1\n",
       " 363    -1\n",
       " 505    -1\n",
       " 1165    1\n",
       " 1121   -1\n",
       " 1629   -1\n",
       " 1216   -1\n",
       " 1151    1\n",
       " 1124   -1\n",
       " 1594   -1\n",
       " 118     1\n",
       " 1249    1\n",
       " 1993   -1\n",
       " 522     1\n",
       " 513     1\n",
       " Name: label, dtype: int64,\n",
       " 'y_train': index\n",
       " 81     -1\n",
       " 915    -1\n",
       " 1018   -1\n",
       " 380    -1\n",
       " 1029    1\n",
       " 1688   -1\n",
       " 84     -1\n",
       " 1677    1\n",
       " 329    -1\n",
       " 6       1\n",
       " 745     1\n",
       " 1553    1\n",
       " 914    -1\n",
       " 873    -1\n",
       " 451     1\n",
       " 490    -1\n",
       " 1480   -1\n",
       " 287     1\n",
       " 948     1\n",
       " 1985    1\n",
       " 1368    1\n",
       " 1146   -1\n",
       " 705    -1\n",
       " 1726    1\n",
       " 1701   -1\n",
       " 1628    1\n",
       " 1599    1\n",
       " 1538   -1\n",
       " 1405    1\n",
       " 1650   -1\n",
       "        ..\n",
       " 955    -1\n",
       " 1215   -1\n",
       " 385     1\n",
       " 805     1\n",
       " 1437   -1\n",
       " 1515   -1\n",
       " 343     1\n",
       " 769    -1\n",
       " 1332    1\n",
       " 1685   -1\n",
       " 130    -1\n",
       " 1687   -1\n",
       " 871     1\n",
       " 1123   -1\n",
       " 1396    1\n",
       " 87     -1\n",
       " 1482   -1\n",
       " 330     1\n",
       " 1238   -1\n",
       " 466    -1\n",
       " 121     1\n",
       " 1638   -1\n",
       " 1044    1\n",
       " 1724    1\n",
       " 1095    1\n",
       " 1130    1\n",
       " 1294    1\n",
       " 860     1\n",
       " 1459   -1\n",
       " 1126   -1\n",
       " Name: label, dtype: int64}"
      ]
     },
     "execution_count": 7,
     "metadata": {},
     "output_type": "execute_result"
    }
   ],
   "source": [
    "general_transformer(StandardScaler(), data_dict)"
   ]
  },
  {
   "cell_type": "code",
   "execution_count": null,
   "metadata": {
    "collapsed": false,
    "scrolled": false
   },
   "outputs": [],
   "source": [
    "scaler['X_train']"
   ]
  },
  {
   "cell_type": "code",
   "execution_count": null,
   "metadata": {
    "collapsed": true
   },
   "outputs": [],
   "source": []
  },
  {
   "cell_type": "code",
   "execution_count": null,
   "metadata": {
    "collapsed": true
   },
   "outputs": [],
   "source": [
    "data_dict['y_train']"
   ]
  },
  {
   "cell_type": "code",
   "execution_count": 35,
   "metadata": {
    "collapsed": false
   },
   "outputs": [],
   "source": [
    "def general_transformer_standard_workflow(transformer, X, y, \n",
    "                                          random_state=None, \n",
    "                                          X_test=None, \n",
    "                                          y_test=None):\n",
    "\n",
    "    X_train, X_test, y_train, y_test = train_test_split(X, y, test_size=0.33, random_state=42)\n",
    "    \n",
    "    transformer.fit(X_train, y_train)\n",
    "    \n",
    "    X_train = transformer.transform(X_train)\n",
    "    X_test = transformer.transform(X_test)\n",
    "#     train_score = transformer.score(X_train, y_train)\n",
    "#     test_score = transformer.score(X_test, y_test)\n",
    "    \n",
    "    return {\n",
    "        'transformer' : transformer, \n",
    "        'X_train'     : X_train,\n",
    "        'X_test'      : X_test,\n",
    "        'y_train'     : y_train,\n",
    "        'y_test'      : y_test,\n",
    "\n",
    "    }"
   ]
  },
  {
   "cell_type": "code",
   "execution_count": 36,
   "metadata": {
    "collapsed": false
   },
   "outputs": [],
   "source": [
    "sk_output = general_transformer_standard_workflow(SelectKBest(f_classif, k=5),X,y)"
   ]
  },
  {
   "cell_type": "code",
   "execution_count": 37,
   "metadata": {
    "collapsed": false
   },
   "outputs": [
    {
     "data": {
      "text/plain": [
       "SelectKBest(k=5, score_func=<function f_classif at 0x110d009b0>)"
      ]
     },
     "execution_count": 37,
     "metadata": {},
     "output_type": "execute_result"
    }
   ],
   "source": [
    "sk_output['transformer']"
   ]
  },
  {
   "cell_type": "code",
   "execution_count": 9,
   "metadata": {
    "collapsed": false
   },
   "outputs": [],
   "source": [
    "selectK_output = general_transformer(SelectKBest(f_classif, k=5), data_dict)"
   ]
  },
  {
   "cell_type": "code",
   "execution_count": 10,
   "metadata": {
    "collapsed": false
   },
   "outputs": [
    {
     "data": {
      "text/plain": [
       "['X_test',\n",
       " 'processes',\n",
       " 'random_state',\n",
       " 'X_train',\n",
       " 'y_train',\n",
       " 'test_size',\n",
       " 'y',\n",
       " 'X',\n",
       " 'y_test']"
      ]
     },
     "execution_count": 10,
     "metadata": {},
     "output_type": "execute_result"
    }
   ],
   "source": [
    "selectK_output.keys()"
   ]
  },
  {
   "cell_type": "code",
   "execution_count": 9,
   "metadata": {
    "collapsed": false
   },
   "outputs": [
    {
     "ename": "KeyError",
     "evalue": "'model'",
     "output_type": "error",
     "traceback": [
      "\u001b[0;31m---------------------------------------------------------------------------\u001b[0m",
      "\u001b[0;31mKeyError\u001b[0m                                  Traceback (most recent call last)",
      "\u001b[0;32m<ipython-input-9-18cb6f161502>\u001b[0m in \u001b[0;36m<module>\u001b[0;34m()\u001b[0m\n\u001b[0;32m----> 1\u001b[0;31m \u001b[0;32mprint\u001b[0m \u001b[0mselectK_output\u001b[0m\u001b[0;34m[\u001b[0m\u001b[0;34m'model'\u001b[0m\u001b[0;34m]\u001b[0m\u001b[0;34m\u001b[0m\u001b[0m\n\u001b[0m\u001b[1;32m      2\u001b[0m \u001b[0;32mprint\u001b[0m \u001b[0mselectK_output\u001b[0m\u001b[0;34m[\u001b[0m\u001b[0;34m'test_score'\u001b[0m\u001b[0;34m]\u001b[0m\u001b[0;34m\u001b[0m\u001b[0m\n\u001b[1;32m      3\u001b[0m \u001b[0;32mprint\u001b[0m \u001b[0mselectK_output\u001b[0m\u001b[0;34m[\u001b[0m\u001b[0;34m'train_score'\u001b[0m\u001b[0;34m]\u001b[0m\u001b[0;34m\u001b[0m\u001b[0m\n",
      "\u001b[0;31mKeyError\u001b[0m: 'model'"
     ]
    }
   ],
   "source": [
    "print selectK_output['model']\n",
    "print selectK_output['test_score']\n",
    "print selectK_output['train_score']"
   ]
  },
  {
   "cell_type": "code",
   "execution_count": null,
   "metadata": {
    "collapsed": true
   },
   "outputs": [],
   "source": [
    "sele"
   ]
  },
  {
   "cell_type": "code",
   "execution_count": null,
   "metadata": {
    "collapsed": false,
    "scrolled": false
   },
   "outputs": [],
   "source": [
    "general_model(LogisticRegression(), data_dict)"
   ]
  },
  {
   "cell_type": "code",
   "execution_count": 61,
   "metadata": {
    "collapsed": false
   },
   "outputs": [],
   "source": [
    "log_model = general_model(LogisticRegression(C=1.0, penalty='l2'), data_dict)"
   ]
  },
  {
   "cell_type": "code",
   "execution_count": 62,
   "metadata": {
    "collapsed": false
   },
   "outputs": [
    {
     "data": {
      "text/plain": [
       "['X_test',\n",
       " 'test_score',\n",
       " 'x_data',\n",
       " 'y_train',\n",
       " 'y_test',\n",
       " 'X_train',\n",
       " 'y_data',\n",
       " 'train_score',\n",
       " 'random_state',\n",
       " 'test_size',\n",
       " 'model']"
      ]
     },
     "execution_count": 62,
     "metadata": {},
     "output_type": "execute_result"
    }
   ],
   "source": [
    "log_model.keys()"
   ]
  },
  {
   "cell_type": "code",
   "execution_count": 18,
   "metadata": {
    "collapsed": false
   },
   "outputs": [
    {
     "name": "stdout",
     "output_type": "stream",
     "text": [
      "LogisticRegression(C=1.0, class_weight=None, dual=False, fit_intercept=True,\n",
      "          intercept_scaling=1, max_iter=100, multi_class='ovr', n_jobs=1,\n",
      "          penalty='l2', random_state=None, solver='liblinear', tol=0.0001,\n",
      "          verbose=0, warm_start=False)\n",
      "0.548484848485\n",
      "0.813432835821\n"
     ]
    }
   ],
   "source": [
    "print log_model['model']\n",
    "print log_model['test_score']\n",
    "print log_model['train_score']"
   ]
  },
  {
   "cell_type": "code",
   "execution_count": 12,
   "metadata": {
    "collapsed": false
   },
   "outputs": [],
   "source": [
    "from sklearn.pipeline import Pipeline\n",
    "from sklearn.model_selection import GridSearchCV"
   ]
  },
  {
   "cell_type": "code",
   "execution_count": 16,
   "metadata": {
    "collapsed": false
   },
   "outputs": [
    {
     "data": {
      "text/plain": [
       "GridSearchCV(cv=None, error_score='raise',\n",
       "       estimator=Pipeline(steps=[('kbest', SelectKBest(k=10, score_func=<function f_classif at 0x110d0b9b0>)), ('lr', LogisticRegression(C=1.0, class_weight=None, dual=False, fit_intercept=True,\n",
       "          intercept_scaling=1, max_iter=100, multi_class='ovr', n_jobs=1,\n",
       "          penalty='l2', random_state=None, solver='liblinear', tol=0.0001,\n",
       "          verbose=0, warm_start=False))]),\n",
       "       fit_params={}, iid=True, n_jobs=1,\n",
       "       param_grid={'kbest__k': [1, 5, 10, 50, 100]},\n",
       "       pre_dispatch='2*n_jobs', refit=True, return_train_score=True,\n",
       "       scoring=None, verbose=0)"
      ]
     },
     "execution_count": 16,
     "metadata": {},
     "output_type": "execute_result"
    }
   ],
   "source": [
    "kbest = SelectKBest(f_classif)\n",
    "pipeline = Pipeline([('kbest', kbest), ('lr', LogisticRegression())])\n",
    "grid_search = GridSearchCV(pipeline, {'kbest__k': [1,5,10,50,100]})\n",
    "grid_search.fit(data_dict['X'], data_dict['y'])"
   ]
  },
  {
   "cell_type": "code",
   "execution_count": 17,
   "metadata": {
    "collapsed": false,
    "scrolled": true
   },
   "outputs": [
    {
     "data": {
      "text/plain": [
       "0.61499999999999999"
      ]
     },
     "execution_count": 17,
     "metadata": {},
     "output_type": "execute_result"
    }
   ],
   "source": [
    "grid_search.best_score_"
   ]
  },
  {
   "cell_type": "code",
   "execution_count": 31,
   "metadata": {
    "collapsed": false
   },
   "outputs": [
    {
     "data": {
      "text/plain": [
       "0.61499999999999999"
      ]
     },
     "execution_count": 31,
     "metadata": {},
     "output_type": "execute_result"
    }
   ],
   "source": [
    "grid_search.score(X,y)"
   ]
  },
  {
   "cell_type": "code",
   "execution_count": 36,
   "metadata": {
    "collapsed": false
   },
   "outputs": [
    {
     "data": {
      "text/plain": [
       "array([[ 0.61313045,  0.38686955],\n",
       "       [ 0.41343645,  0.58656355],\n",
       "       [ 0.54247906,  0.45752094],\n",
       "       ..., \n",
       "       [ 0.56547143,  0.43452857],\n",
       "       [ 0.63114618,  0.36885382],\n",
       "       [ 0.39891217,  0.60108783]])"
      ]
     },
     "execution_count": 36,
     "metadata": {},
     "output_type": "execute_result"
    }
   ],
   "source": [
    "grid_search.predict_proba(X)"
   ]
  },
  {
   "cell_type": "code",
   "execution_count": 37,
   "metadata": {
    "collapsed": false
   },
   "outputs": [
    {
     "data": {
      "text/plain": [
       "array([[-0.48917756, -0.94966772],\n",
       "       [-0.88325147, -0.53347426],\n",
       "       [-0.61160579, -0.78193263],\n",
       "       ..., \n",
       "       [-0.5700955 , -0.83349359],\n",
       "       [-0.46021779, -0.99735485],\n",
       "       [-0.919014  , -0.50901422]])"
      ]
     },
     "execution_count": 37,
     "metadata": {},
     "output_type": "execute_result"
    }
   ],
   "source": [
    "grid_search.predict_log_proba(X)"
   ]
  },
  {
   "cell_type": "code",
   "execution_count": null,
   "metadata": {
    "collapsed": true
   },
   "outputs": [],
   "source": []
  }
 ],
 "metadata": {
  "anaconda-cloud": {},
  "kernelspec": {
   "display_name": "Python [conda env:py27]",
   "language": "python",
   "name": "conda-env-py27-py"
  },
  "language_info": {
   "codemirror_mode": {
    "name": "ipython",
    "version": 2
   },
   "file_extension": ".py",
   "mimetype": "text/x-python",
   "name": "python",
   "nbconvert_exporter": "python",
   "pygments_lexer": "ipython2",
   "version": "2.7.12"
  }
 },
 "nbformat": 4,
 "nbformat_minor": 1
}
